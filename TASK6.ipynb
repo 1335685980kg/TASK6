{
 "cells": [
  {
   "cell_type": "markdown",
   "metadata": {},
   "source": [
    "# fastText模型架构"
   ]
  },
  {
   "cell_type": "markdown",
   "metadata": {},
   "source": [
    "## fastText算法是一种有监督的模型，与CBOW架构很相似，CBOW通过上下文预测中间词，而fastText则是通过上下文预测标签（这个标签就是文本的类别，是训练模型之前通过人工标注等方法事先确定下来的），从模型架构上来说，沿用了CBOW的单层神经网络的模式，不过fastText的处理速度才是这个算法的创新之处。\n"
   ]
  },
  {
   "cell_type": "markdown",
   "metadata": {},
   "source": [
    "## fastText模型的输入是一个词的序列（一段文本或者一句话)，输出是这个词序列属于不同类别的概率。在序列中的词和词组构成特征向量，特征向量通过线性变换映射到中间层，再由中间层映射到标签。fastText在预测标签时使用了非线性激活函数，但在中间层不使用非线性激活函数。  "
   ]
  },
  {
   "cell_type": "code",
   "execution_count": 9,
   "metadata": {},
   "outputs": [
    {
     "ename": "SyntaxError",
     "evalue": "(unicode error) 'unicodeescape' codec can't decode bytes in position 2-3: truncated \\UXXXXXXXX escape (<ipython-input-9-7f866f7035cd>, line 24)",
     "output_type": "error",
     "traceback": [
      "\u001b[1;36m  File \u001b[1;32m\"<ipython-input-9-7f866f7035cd>\"\u001b[1;36m, line \u001b[1;32m24\u001b[0m\n\u001b[1;33m    classifier = ff.train_supervised('C:\\Users\\KAI\\cnews.train.txt', label='__label__')\u001b[0m\n\u001b[1;37m                                    ^\u001b[0m\n\u001b[1;31mSyntaxError\u001b[0m\u001b[1;31m:\u001b[0m (unicode error) 'unicodeescape' codec can't decode bytes in position 2-3: truncated \\UXXXXXXXX escape\n"
     ]
    }
   ],
   "source": [
    "from gensim.models import fasttext\n",
    "import fastText.FastText as ff\n",
    "import pandas as pd\n",
    "from keras.preprocessing.text import Tokenizer\n",
    "\n",
    "\n",
    "def read_file(path):\n",
    "    with open(path, 'r', encoding=\"UTF-8\") as f:\n",
    "        data = []\n",
    "        labels = []\n",
    "        for line in f:\n",
    "            data.append(line.split('\\t')[1])\n",
    "            labels.append(line.split('\\t')[0])\n",
    "    return data, labels\n",
    "\n",
    "def get_tokenizer_data(data):\n",
    "    tokenizer = Tokenizer(num_words=None)\n",
    "    tokenizer.fit_on_texts(data)\n",
    "    data = tokenizer.texts_to_sequences(data)\n",
    "    return data\n",
    "\n",
    "\n",
    "def fast_text_model(X_test):\n",
    "    classifier = ff.train_supervised('C:\\Users\\KAI\\cnews.train.txt', label='__label__')\n",
    "    label, prob = classifier.predict(X_test)\n",
    "    print(label)\n",
    "    print(prob)\n",
    "    result = classifier.test('C:\\Users\\KAI\\cnews.test.txt')\n",
    "    print(result)\n",
    "    return label, prob, result\n",
    "print(fast_text_model('体育 阿联首节手感不佳未开张 探花抢板隔人暴扣新浪体育讯北京时间3月29日，奇才继续客场之旅，奔赴盐湖城挑战爵士队。'))   \n",
    "####  还没写完，"
   ]
  },
  {
   "cell_type": "code",
   "execution_count": null,
   "metadata": {},
   "outputs": [],
   "source": []
  },
  {
   "cell_type": "code",
   "execution_count": null,
   "metadata": {
    "scrolled": true
   },
   "outputs": [],
   "source": []
  },
  {
   "cell_type": "code",
   "execution_count": null,
   "metadata": {},
   "outputs": [],
   "source": []
  },
  {
   "cell_type": "code",
   "execution_count": null,
   "metadata": {},
   "outputs": [],
   "source": []
  },
  {
   "cell_type": "code",
   "execution_count": null,
   "metadata": {},
   "outputs": [],
   "source": []
  }
 ],
 "metadata": {
  "kernelspec": {
   "display_name": "Python 3",
   "language": "python",
   "name": "python3"
  },
  "language_info": {
   "codemirror_mode": {
    "name": "ipython",
    "version": 3
   },
   "file_extension": ".py",
   "mimetype": "text/x-python",
   "name": "python",
   "nbconvert_exporter": "python",
   "pygments_lexer": "ipython3",
   "version": "3.6.7"
  }
 },
 "nbformat": 4,
 "nbformat_minor": 2
}
